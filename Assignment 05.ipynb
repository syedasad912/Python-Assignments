{
 "cells": [
  {
   "cell_type": "code",
   "execution_count": 24,
   "metadata": {},
   "outputs": [
    {
     "name": "stdout",
     "output_type": "stream",
     "text": [
      "Factorial is : 120\n"
     ]
    }
   ],
   "source": [
    "#QUESTION 01\n",
    "def factorial(number):\n",
    "    fact = 1\n",
    "    for i in range(number):\n",
    "        itr = i + 1;\n",
    "        fact = fact * itr\n",
    "    return fact\n",
    "\n",
    "print(\"Factorial is :\",factorial(5))"
   ]
  },
  {
   "cell_type": "code",
   "execution_count": 17,
   "metadata": {},
   "outputs": [
    {
     "name": "stdout",
     "output_type": "stream",
     "text": [
      "Total Number of Upper case letters :  2\n",
      "Total Number of Lower case letters :  7\n"
     ]
    }
   ],
   "source": [
    "#QUESTION 02\n",
    "\n",
    "def takeStrr(name):\n",
    "    upperCase = 0\n",
    "    lowerCase = 0\n",
    "    for i in range(len(name)):\n",
    "        if(name[i].isupper()):\n",
    "            upperCase += 1\n",
    "        elif(name[i].islower()):\n",
    "            lowerCase += 1\n",
    "    print(\"Total Number of Upper case letters : \",upperCase)\n",
    "    print(\"Total Number of Lower case letters : \",lowerCase)\n",
    "\n",
    "takeStrr('Asad Zaidi')"
   ]
  },
  {
   "cell_type": "code",
   "execution_count": 18,
   "metadata": {},
   "outputs": [
    {
     "name": "stdout",
     "output_type": "stream",
     "text": [
      "Even Number List : [2, 4, 6, 8, 10, 12, 14]\n"
     ]
    }
   ],
   "source": [
    "#QUESTION 03\n",
    "\n",
    "numbers = [1,2,3,4,5,6,7,8,9,10,11,12,13,14,15]\n",
    "\n",
    "def showEven(num):\n",
    "    newList = []\n",
    "    for i in range(len(num)):\n",
    "        if(num[i] % 2 == 0):\n",
    "            newList.append(num[i])\n",
    "    print(\"Even Number List :\", newList)\n",
    "    \n",
    "showEven(numbers)"
   ]
  },
  {
   "cell_type": "code",
   "execution_count": 19,
   "metadata": {},
   "outputs": [
    {
     "name": "stdout",
     "output_type": "stream",
     "text": [
      "Yes\n"
     ]
    }
   ],
   "source": [
    "#QUESTION 04\n",
    "\n",
    "def reverse(s): \n",
    "    return s[::-1] \n",
    "\n",
    "def isPalindrome(s):\n",
    "    reverse = s[::-1]   \n",
    "    if (s == reverse): \n",
    "        return True\n",
    "    return False\n",
    "    \n",
    "ans = isPalindrome(\"polop\")   \n",
    "if ans == True: \n",
    "    print(\"Yes\") \n",
    "else: \n",
    "    print(\"No\")"
   ]
  },
  {
   "cell_type": "code",
   "execution_count": 20,
   "metadata": {},
   "outputs": [
    {
     "name": "stdout",
     "output_type": "stream",
     "text": [
      "7  is a Prime number\n"
     ]
    }
   ],
   "source": [
    "#QUESTION 05\n",
    "\n",
    "def checkPrime(num):\n",
    "    if(num > 1):\n",
    "        for i in range(2,num):\n",
    "            if(num % i == 0): \n",
    "                print(num, \" is not a Prime number\")\n",
    "                break\n",
    "            else:\n",
    "                print(num, \" is a Prime number\")\n",
    "                break\n",
    "\n",
    "checkPrime(7)"
   ]
  },
  {
   "cell_type": "code",
   "execution_count": 21,
   "metadata": {},
   "outputs": [
    {
     "name": "stdout",
     "output_type": "stream",
     "text": [
      "The Person bought  Bread Egg \n",
      "The Person bought  Bread Egg Milk \n",
      "The Person bought  Bread Egg Ginger Butter \n"
     ]
    }
   ],
   "source": [
    "#QUESTION 06\n",
    "\n",
    "def shoppingItems(*items):\n",
    "    newItems = \" \"\n",
    "    for item in items:\n",
    "        newItems += item +\" \"\n",
    "    print(\"The Person bought\",newItems)\n",
    "\n",
    "shoppingItems(\"Bread\",\"Egg\")\n",
    "shoppingItems(\"Bread\",\"Egg\",\"Milk\")\n",
    "shoppingItems(\"Bread\",\"Egg\",\"Ginger\",\"Butter\")"
   ]
  },
  {
   "cell_type": "code",
   "execution_count": null,
   "metadata": {},
   "outputs": [],
   "source": []
  }
 ],
 "metadata": {
  "kernelspec": {
   "display_name": "Python 3",
   "language": "python",
   "name": "python3"
  },
  "language_info": {
   "codemirror_mode": {
    "name": "ipython",
    "version": 3
   },
   "file_extension": ".py",
   "mimetype": "text/x-python",
   "name": "python",
   "nbconvert_exporter": "python",
   "pygments_lexer": "ipython3",
   "version": "3.7.0"
  }
 },
 "nbformat": 4,
 "nbformat_minor": 2
}
